{
 "cells": [
  {
   "cell_type": "code",
   "execution_count": 1,
   "id": "b0ce9ae8",
   "metadata": {},
   "outputs": [],
   "source": [
    "from flask import Flask, request, render_template\n",
    "import pickle\n",
    "import numpy as np"
   ]
  },
  {
   "cell_type": "code",
   "execution_count": 2,
   "id": "73cc5afb",
   "metadata": {},
   "outputs": [],
   "source": [
    "app = Flask(__name__)"
   ]
  },
  {
   "cell_type": "code",
   "execution_count": null,
   "id": "3ffcac36",
   "metadata": {},
   "outputs": [],
   "source": []
  },
  {
   "cell_type": "code",
   "execution_count": 7,
   "id": "89efe880",
   "metadata": {},
   "outputs": [
    {
     "ename": "IndentationError",
     "evalue": "unexpected unindent (2240100035.py, line 18)",
     "output_type": "error",
     "traceback": [
      "\u001b[1;36m  Cell \u001b[1;32mIn[7], line 18\u001b[1;36m\u001b[0m\n\u001b[1;33m    def home():\u001b[0m\n\u001b[1;37m               ^\u001b[0m\n\u001b[1;31mIndentationError\u001b[0m\u001b[1;31m:\u001b[0m unexpected unindent\n"
     ]
    }
   ],
   "source": [
    "from flask import Flask, request, render_template\n",
    "import pickle\n",
    "import numpy as np\n",
    "\n",
    "app = Flask(__name__)\n",
    "\n",
    "# Load your pre-trained models and encoders here (similar to your original code)\n",
    "with open('models/clf.pkl', 'rb') as clf_file:\n",
    "    clf = pickle.load(clf_file)\n",
    "\n",
    "# Define a function for preprocessing user input\n",
    "def preprocess_input(pclass, gender, age, sibsp, parch, fare, embarked):\n",
    "    # Perform preprocessing steps as needed (e.g., one-hot encoding)\n",
    "    # Return a NumPy array containing the preprocessed input data\n",
    "    # ...\n",
    "\n",
    "    @app.route('/')\n",
    "def home():\n",
    "    return render_template('survivalpredict_form.html')  # This should render your HTML form\n",
    "\n",
    "@app.route('/predict', methods=['POST'])\n",
    "def predict():\n",
    "    # Retrieve user input from the form\n",
    "    pclass = int(request.form['pclass'])\n",
    "    gender = request.form['gender']\n",
    "    age = float(request.form['age'])\n",
    "    sibsp = int(request.form['sibsp'])\n",
    "    parch = int(request.form['parch'])\n",
    "    fare = float(request.form['fare'])\n",
    "    embarked = request.form['embarked']\n",
    "\n",
    "    # Preprocess user input\n",
    "    input_data = preprocess_input(pclass, gender, age, sibsp, parch, fare, embarked)\n",
    "\n",
    "    # Make predictions using your pre-trained model (clf)\n",
    "    prediction = clf.predict([input_data])[0]\n",
    "\n",
    "    # Return the prediction results to the user\n",
    "    return f'Predicted Survival: {prediction}'\n",
    "\n",
    "if __name__ == '__main__':\n",
    "    app.run(debug=True)\n"
   ]
  },
  {
   "cell_type": "code",
   "execution_count": null,
   "id": "e1ccd88e",
   "metadata": {},
   "outputs": [],
   "source": []
  }
 ],
 "metadata": {
  "kernelspec": {
   "display_name": "Python 3 (ipykernel)",
   "language": "python",
   "name": "python3"
  },
  "language_info": {
   "codemirror_mode": {
    "name": "ipython",
    "version": 3
   },
   "file_extension": ".py",
   "mimetype": "text/x-python",
   "name": "python",
   "nbconvert_exporter": "python",
   "pygments_lexer": "ipython3",
   "version": "3.10.9"
  }
 },
 "nbformat": 4,
 "nbformat_minor": 5
}
