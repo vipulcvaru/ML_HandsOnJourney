{
 "cells": [
  {
   "cell_type": "code",
   "execution_count": null,
   "metadata": {
    "colab": {
     "base_uri": "https://localhost:8080/"
    },
    "executionInfo": {
     "elapsed": 788,
     "status": "ok",
     "timestamp": 1694246194337,
     "user": {
      "displayName": "Vipul Varu",
      "userId": "15100765621066519376"
     },
     "user_tz": -330
    },
    "id": "LDjF0WnbR2m0",
    "outputId": "62472b05-c966-41e5-ba35-962c7daa73ea"
   },
   "outputs": [],
   "source": []
  },
  {
   "cell_type": "code",
   "execution_count": 16,
   "metadata": {
    "executionInfo": {
     "elapsed": 4,
     "status": "ok",
     "timestamp": 1694246194337,
     "user": {
      "displayName": "Vipul Varu",
      "userId": "15100765621066519376"
     },
     "user_tz": -330
    },
    "id": "EsHoRvW-SU_O"
   },
   "outputs": [],
   "source": [
    "import numpy as np\n",
    "a = np.array(4)"
   ]
  },
  {
   "cell_type": "code",
   "execution_count": 17,
   "metadata": {
    "colab": {
     "base_uri": "https://localhost:8080/"
    },
    "executionInfo": {
     "elapsed": 5,
     "status": "ok",
     "timestamp": 1694246195174,
     "user": {
      "displayName": "Vipul Varu",
      "userId": "15100765621066519376"
     },
     "user_tz": -330
    },
    "id": "6LfqJss7UKFz",
    "outputId": "5dd04882-9375-4460-80f1-5242613e9980"
   },
   "outputs": [
    {
     "name": "stdout",
     "output_type": "stream",
     "text": [
      "4\n"
     ]
    }
   ],
   "source": [
    "print(a)"
   ]
  },
  {
   "cell_type": "code",
   "execution_count": 18,
   "metadata": {
    "colab": {
     "base_uri": "https://localhost:8080/"
    },
    "executionInfo": {
     "elapsed": 8,
     "status": "ok",
     "timestamp": 1694246195743,
     "user": {
      "displayName": "Vipul Varu",
      "userId": "15100765621066519376"
     },
     "user_tz": -330
    },
    "id": "r8ofmrIxUNFO",
    "outputId": "dc1c96ab-f0a9-4073-a290-73fcd8b26927"
   },
   "outputs": [
    {
     "data": {
      "text/plain": [
       "0"
      ]
     },
     "execution_count": 18,
     "metadata": {},
     "output_type": "execute_result"
    }
   ],
   "source": [
    "a.ndim"
   ]
  },
  {
   "cell_type": "code",
   "execution_count": 19,
   "metadata": {
    "colab": {
     "base_uri": "https://localhost:8080/"
    },
    "executionInfo": {
     "elapsed": 6,
     "status": "ok",
     "timestamp": 1694246196860,
     "user": {
      "displayName": "Vipul Varu",
      "userId": "15100765621066519376"
     },
     "user_tz": -330
    },
    "id": "u2k8vlzLUZBw",
    "outputId": "5ca4519a-f666-4313-e64e-62af673d57c3"
   },
   "outputs": [
    {
     "data": {
      "text/plain": [
       "1"
      ]
     },
     "execution_count": 19,
     "metadata": {},
     "output_type": "execute_result"
    }
   ],
   "source": [
    "arr = np.array([1,2,3,4])\n",
    "arr.ndim"
   ]
  },
  {
   "cell_type": "code",
   "execution_count": 20,
   "metadata": {
    "colab": {
     "base_uri": "https://localhost:8080/"
    },
    "executionInfo": {
     "elapsed": 6,
     "status": "ok",
     "timestamp": 1694246196861,
     "user": {
      "displayName": "Vipul Varu",
      "userId": "15100765621066519376"
     },
     "user_tz": -330
    },
    "id": "ZLKPr_N9U6FT",
    "outputId": "5591c043-6095-4ccb-a38f-189bd69be095"
   },
   "outputs": [
    {
     "name": "stdout",
     "output_type": "stream",
     "text": [
      "[[1 2 3]\n",
      " [4 5 6]\n",
      " [7 8 9]]\n"
     ]
    }
   ],
   "source": [
    "mat = np.array([[1,2,3],[4,5,6],[7,8,9]])\n",
    "print(mat)"
   ]
  },
  {
   "cell_type": "code",
   "execution_count": 21,
   "metadata": {
    "colab": {
     "base_uri": "https://localhost:8080/"
    },
    "executionInfo": {
     "elapsed": 5,
     "status": "ok",
     "timestamp": 1694246197459,
     "user": {
      "displayName": "Vipul Varu",
      "userId": "15100765621066519376"
     },
     "user_tz": -330
    },
    "id": "SlxvBeVwV4qg",
    "outputId": "90a1ae19-5514-4bc3-bfa7-05de5435098a"
   },
   "outputs": [
    {
     "data": {
      "text/plain": [
       "2"
      ]
     },
     "execution_count": 21,
     "metadata": {},
     "output_type": "execute_result"
    }
   ],
   "source": [
    "mat.ndim\n"
   ]
  },
  {
   "cell_type": "code",
   "execution_count": 22,
   "metadata": {
    "executionInfo": {
     "elapsed": 4,
     "status": "ok",
     "timestamp": 1694246197459,
     "user": {
      "displayName": "Vipul Varu",
      "userId": "15100765621066519376"
     },
     "user_tz": -330
    },
    "id": "okcfSp6lV98Z"
   },
   "outputs": [],
   "source": [
    "import numpy as np\n",
    "import pandas as pd"
   ]
  },
  {
   "cell_type": "code",
   "execution_count": 23,
   "metadata": {
    "colab": {
     "base_uri": "https://localhost:8080/",
     "height": 206
    },
    "executionInfo": {
     "elapsed": 7,
     "status": "ok",
     "timestamp": 1694246197941,
     "user": {
      "displayName": "Vipul Varu",
      "userId": "15100765621066519376"
     },
     "user_tz": -330
    },
    "id": "I2Nk6_ejyjeo",
    "outputId": "3a762b09-be8e-4776-e017-4bf769a52e66",
    "scrolled": true
   },
   "outputs": [
    {
     "data": {
      "text/html": [
       "<div>\n",
       "<style scoped>\n",
       "    .dataframe tbody tr th:only-of-type {\n",
       "        vertical-align: middle;\n",
       "    }\n",
       "\n",
       "    .dataframe tbody tr th {\n",
       "        vertical-align: top;\n",
       "    }\n",
       "\n",
       "    .dataframe thead th {\n",
       "        text-align: right;\n",
       "    }\n",
       "</style>\n",
       "<table border=\"1\" class=\"dataframe\">\n",
       "  <thead>\n",
       "    <tr style=\"text-align: right;\">\n",
       "      <th></th>\n",
       "      <th>Unnamed: 0.1</th>\n",
       "      <th>Unnamed: 0</th>\n",
       "      <th>cgpa</th>\n",
       "      <th>iq</th>\n",
       "      <th>placement</th>\n",
       "    </tr>\n",
       "  </thead>\n",
       "  <tbody>\n",
       "    <tr>\n",
       "      <th>0</th>\n",
       "      <td>0</td>\n",
       "      <td>0</td>\n",
       "      <td>6.8</td>\n",
       "      <td>123.0</td>\n",
       "      <td>1</td>\n",
       "    </tr>\n",
       "    <tr>\n",
       "      <th>1</th>\n",
       "      <td>1</td>\n",
       "      <td>1</td>\n",
       "      <td>5.9</td>\n",
       "      <td>106.0</td>\n",
       "      <td>0</td>\n",
       "    </tr>\n",
       "    <tr>\n",
       "      <th>2</th>\n",
       "      <td>2</td>\n",
       "      <td>2</td>\n",
       "      <td>5.3</td>\n",
       "      <td>121.0</td>\n",
       "      <td>0</td>\n",
       "    </tr>\n",
       "    <tr>\n",
       "      <th>3</th>\n",
       "      <td>3</td>\n",
       "      <td>3</td>\n",
       "      <td>7.4</td>\n",
       "      <td>132.0</td>\n",
       "      <td>1</td>\n",
       "    </tr>\n",
       "    <tr>\n",
       "      <th>4</th>\n",
       "      <td>4</td>\n",
       "      <td>4</td>\n",
       "      <td>5.8</td>\n",
       "      <td>142.0</td>\n",
       "      <td>0</td>\n",
       "    </tr>\n",
       "  </tbody>\n",
       "</table>\n",
       "</div>"
      ],
      "text/plain": [
       "   Unnamed: 0.1  Unnamed: 0  cgpa     iq  placement\n",
       "0             0           0   6.8  123.0          1\n",
       "1             1           1   5.9  106.0          0\n",
       "2             2           2   5.3  121.0          0\n",
       "3             3           3   7.4  132.0          1\n",
       "4             4           4   5.8  142.0          0"
      ]
     },
     "execution_count": 23,
     "metadata": {},
     "output_type": "execute_result"
    }
   ],
   "source": [
    "df = pd.read_csv('C:/Users/Vipul/Desktop/MACHINE LEARNING/studentplacement.csv')\n",
    "df.head()"
   ]
  },
  {
   "cell_type": "code",
   "execution_count": 24,
   "metadata": {
    "colab": {
     "base_uri": "https://localhost:8080/"
    },
    "executionInfo": {
     "elapsed": 5,
     "status": "ok",
     "timestamp": 1694246200147,
     "user": {
      "displayName": "Vipul Varu",
      "userId": "15100765621066519376"
     },
     "user_tz": -330
    },
    "id": "8o2hC3ZFzYET",
    "outputId": "b4a10498-18ff-4e32-8679-5e5d3a291928"
   },
   "outputs": [
    {
     "data": {
      "text/plain": [
       "(100, 5)"
      ]
     },
     "execution_count": 24,
     "metadata": {},
     "output_type": "execute_result"
    }
   ],
   "source": [
    "df.shape"
   ]
  },
  {
   "cell_type": "markdown",
   "metadata": {
    "id": "l9p619r8zXl8"
   },
   "source": []
  },
  {
   "cell_type": "code",
   "execution_count": 25,
   "metadata": {
    "executionInfo": {
     "elapsed": 3,
     "status": "ok",
     "timestamp": 1694246202477,
     "user": {
      "displayName": "Vipul Varu",
      "userId": "15100765621066519376"
     },
     "user_tz": -330
    },
    "id": "PoFa8PxLzid6"
   },
   "outputs": [],
   "source": [
    "# Steps\n",
    "# 0.Preprocess + EDA + Feature Selection\n",
    "# 1.Extract input and output cols\n",
    "# 2.Scale the values\n",
    "# 3.Train test split\n",
    "# 4.Train the model\n",
    "# 5.Evaluate the model/model selection\n",
    "# 6.Deploy the model"
   ]
  },
  {
   "cell_type": "markdown",
   "metadata": {
    "id": "-uxQaO2C7x0S"
   },
   "source": [
    "# New section"
   ]
  },
  {
   "cell_type": "code",
   "execution_count": 26,
   "metadata": {
    "executionInfo": {
     "elapsed": 459,
     "status": "ok",
     "timestamp": 1694246290441,
     "user": {
      "displayName": "Vipul Varu",
      "userId": "15100765621066519376"
     },
     "user_tz": -330
    },
    "id": "etzVlt5Q0DOL"
   },
   "outputs": [],
   "source": [
    "df = df.iloc[:,1:]"
   ]
  },
  {
   "cell_type": "code",
   "execution_count": 27,
   "metadata": {
    "colab": {
     "base_uri": "https://localhost:8080/",
     "height": 206
    },
    "executionInfo": {
     "elapsed": 9,
     "status": "ok",
     "timestamp": 1694246292319,
     "user": {
      "displayName": "Vipul Varu",
      "userId": "15100765621066519376"
     },
     "user_tz": -330
    },
    "id": "VphRGzjP0GMk",
    "outputId": "93c19c8c-82bf-4e36-b0c9-8e0a3926e21a"
   },
   "outputs": [
    {
     "data": {
      "text/html": [
       "<div>\n",
       "<style scoped>\n",
       "    .dataframe tbody tr th:only-of-type {\n",
       "        vertical-align: middle;\n",
       "    }\n",
       "\n",
       "    .dataframe tbody tr th {\n",
       "        vertical-align: top;\n",
       "    }\n",
       "\n",
       "    .dataframe thead th {\n",
       "        text-align: right;\n",
       "    }\n",
       "</style>\n",
       "<table border=\"1\" class=\"dataframe\">\n",
       "  <thead>\n",
       "    <tr style=\"text-align: right;\">\n",
       "      <th></th>\n",
       "      <th>Unnamed: 0</th>\n",
       "      <th>cgpa</th>\n",
       "      <th>iq</th>\n",
       "      <th>placement</th>\n",
       "    </tr>\n",
       "  </thead>\n",
       "  <tbody>\n",
       "    <tr>\n",
       "      <th>0</th>\n",
       "      <td>0</td>\n",
       "      <td>6.8</td>\n",
       "      <td>123.0</td>\n",
       "      <td>1</td>\n",
       "    </tr>\n",
       "    <tr>\n",
       "      <th>1</th>\n",
       "      <td>1</td>\n",
       "      <td>5.9</td>\n",
       "      <td>106.0</td>\n",
       "      <td>0</td>\n",
       "    </tr>\n",
       "    <tr>\n",
       "      <th>2</th>\n",
       "      <td>2</td>\n",
       "      <td>5.3</td>\n",
       "      <td>121.0</td>\n",
       "      <td>0</td>\n",
       "    </tr>\n",
       "    <tr>\n",
       "      <th>3</th>\n",
       "      <td>3</td>\n",
       "      <td>7.4</td>\n",
       "      <td>132.0</td>\n",
       "      <td>1</td>\n",
       "    </tr>\n",
       "    <tr>\n",
       "      <th>4</th>\n",
       "      <td>4</td>\n",
       "      <td>5.8</td>\n",
       "      <td>142.0</td>\n",
       "      <td>0</td>\n",
       "    </tr>\n",
       "  </tbody>\n",
       "</table>\n",
       "</div>"
      ],
      "text/plain": [
       "   Unnamed: 0  cgpa     iq  placement\n",
       "0           0   6.8  123.0          1\n",
       "1           1   5.9  106.0          0\n",
       "2           2   5.3  121.0          0\n",
       "3           3   7.4  132.0          1\n",
       "4           4   5.8  142.0          0"
      ]
     },
     "execution_count": 27,
     "metadata": {},
     "output_type": "execute_result"
    }
   ],
   "source": [
    "df.head()"
   ]
  },
  {
   "cell_type": "code",
   "execution_count": 28,
   "metadata": {
    "colab": {
     "base_uri": "https://localhost:8080/",
     "height": 206
    },
    "executionInfo": {
     "elapsed": 609,
     "status": "ok",
     "timestamp": 1694246296816,
     "user": {
      "displayName": "Vipul Varu",
      "userId": "15100765621066519376"
     },
     "user_tz": -330
    },
    "id": "prOnT2GQ0pHa",
    "outputId": "0797f22a-d59f-4617-a30b-5f8a960e80d1"
   },
   "outputs": [
    {
     "data": {
      "text/html": [
       "<div>\n",
       "<style scoped>\n",
       "    .dataframe tbody tr th:only-of-type {\n",
       "        vertical-align: middle;\n",
       "    }\n",
       "\n",
       "    .dataframe tbody tr th {\n",
       "        vertical-align: top;\n",
       "    }\n",
       "\n",
       "    .dataframe thead th {\n",
       "        text-align: right;\n",
       "    }\n",
       "</style>\n",
       "<table border=\"1\" class=\"dataframe\">\n",
       "  <thead>\n",
       "    <tr style=\"text-align: right;\">\n",
       "      <th></th>\n",
       "      <th>Unnamed: 0</th>\n",
       "      <th>cgpa</th>\n",
       "      <th>iq</th>\n",
       "      <th>placement</th>\n",
       "    </tr>\n",
       "  </thead>\n",
       "  <tbody>\n",
       "    <tr>\n",
       "      <th>0</th>\n",
       "      <td>0</td>\n",
       "      <td>6.8</td>\n",
       "      <td>123.0</td>\n",
       "      <td>1</td>\n",
       "    </tr>\n",
       "    <tr>\n",
       "      <th>1</th>\n",
       "      <td>1</td>\n",
       "      <td>5.9</td>\n",
       "      <td>106.0</td>\n",
       "      <td>0</td>\n",
       "    </tr>\n",
       "    <tr>\n",
       "      <th>2</th>\n",
       "      <td>2</td>\n",
       "      <td>5.3</td>\n",
       "      <td>121.0</td>\n",
       "      <td>0</td>\n",
       "    </tr>\n",
       "    <tr>\n",
       "      <th>3</th>\n",
       "      <td>3</td>\n",
       "      <td>7.4</td>\n",
       "      <td>132.0</td>\n",
       "      <td>1</td>\n",
       "    </tr>\n",
       "    <tr>\n",
       "      <th>4</th>\n",
       "      <td>4</td>\n",
       "      <td>5.8</td>\n",
       "      <td>142.0</td>\n",
       "      <td>0</td>\n",
       "    </tr>\n",
       "  </tbody>\n",
       "</table>\n",
       "</div>"
      ],
      "text/plain": [
       "   Unnamed: 0  cgpa     iq  placement\n",
       "0           0   6.8  123.0          1\n",
       "1           1   5.9  106.0          0\n",
       "2           2   5.3  121.0          0\n",
       "3           3   7.4  132.0          1\n",
       "4           4   5.8  142.0          0"
      ]
     },
     "execution_count": 28,
     "metadata": {},
     "output_type": "execute_result"
    }
   ],
   "source": [
    "df.head()"
   ]
  },
  {
   "cell_type": "code",
   "execution_count": 29,
   "metadata": {
    "colab": {
     "base_uri": "https://localhost:8080/"
    },
    "executionInfo": {
     "elapsed": 382,
     "status": "ok",
     "timestamp": 1694246300106,
     "user": {
      "displayName": "Vipul Varu",
      "userId": "15100765621066519376"
     },
     "user_tz": -330
    },
    "id": "mHpSKoAn03Ps",
    "outputId": "9081ce69-8cd5-4242-df78-2867bbf84e7d"
   },
   "outputs": [
    {
     "name": "stdout",
     "output_type": "stream",
     "text": [
      "<class 'pandas.core.frame.DataFrame'>\n",
      "RangeIndex: 100 entries, 0 to 99\n",
      "Data columns (total 4 columns):\n",
      " #   Column      Non-Null Count  Dtype  \n",
      "---  ------      --------------  -----  \n",
      " 0   Unnamed: 0  100 non-null    int64  \n",
      " 1   cgpa        100 non-null    float64\n",
      " 2   iq          100 non-null    float64\n",
      " 3   placement   100 non-null    int64  \n",
      "dtypes: float64(2), int64(2)\n",
      "memory usage: 3.2 KB\n"
     ]
    }
   ],
   "source": [
    "df.info()"
   ]
  },
  {
   "cell_type": "code",
   "execution_count": 30,
   "metadata": {
    "colab": {
     "base_uri": "https://localhost:8080/",
     "height": 448
    },
    "executionInfo": {
     "elapsed": 495,
     "status": "ok",
     "timestamp": 1694246304296,
     "user": {
      "displayName": "Vipul Varu",
      "userId": "15100765621066519376"
     },
     "user_tz": -330
    },
    "id": "eOwglCKK18dH",
    "outputId": "e5ba1018-dbca-4efc-bb47-e9110b97414b"
   },
   "outputs": [
    {
     "data": {
      "text/plain": [
       "<matplotlib.collections.PathCollection at 0x17a211f75e0>"
      ]
     },
     "execution_count": 30,
     "metadata": {},
     "output_type": "execute_result"
    },
    {
     "data": {
      "image/png": "[encoded data removed]",
      "text/plain": [
       "<Figure size 640x480 with 1 Axes>"
      ]
     },
     "metadata": {},
     "output_type": "display_data"
    }
   ],
   "source": [
    "import matplotlib.pyplot as plt\n",
    "plt.scatter(df['cgpa'],df['iq'])"
   ]
  },
  {
   "cell_type": "code",
   "execution_count": 31,
   "metadata": {
    "colab": {
     "base_uri": "https://localhost:8080/",
     "height": 448
    },
    "executionInfo": {
     "elapsed": 677,
     "status": "ok",
     "timestamp": 1694246309280,
     "user": {
      "displayName": "Vipul Varu",
      "userId": "15100765621066519376"
     },
     "user_tz": -330
    },
    "id": "3Dy89XEP2czj",
    "outputId": "d3471026-0cbb-4ec2-8aef-3d1a9c0e12d6"
   },
   "outputs": [
    {
     "data": {
      "text/plain": [
       "<matplotlib.collections.PathCollection at 0x17a214744f0>"
      ]
     },
     "execution_count": 31,
     "metadata": {},
     "output_type": "execute_result"
    },
    {
     "data": {
      "image/png": "[encoded data removed]",
      "text/plain": [
       "<Figure size 640x480 with 1 Axes>"
      ]
     },
     "metadata": {},
     "output_type": "display_data"
    }
   ],
   "source": [
    "plt.scatter(df['cgpa'],df['iq'],c=df['placement'])"
   ]
  },
  {
   "cell_type": "code",
   "execution_count": 32,
   "metadata": {
    "executionInfo": {
     "elapsed": 3,
     "status": "ok",
     "timestamp": 1694246316887,
     "user": {
      "displayName": "Vipul Varu",
      "userId": "15100765621066519376"
     },
     "user_tz": -330
    },
    "id": "NZHzrZ8U2ruj"
   },
   "outputs": [],
   "source": [
    "X = df.iloc[:,0:2]\n",
    "y = df.iloc[:,-1]"
   ]
  },
  {
   "cell_type": "code",
   "execution_count": 33,
   "metadata": {
    "colab": {
     "base_uri": "https://localhost:8080/",
     "height": 423
    },
    "executionInfo": {
     "elapsed": 458,
     "status": "ok",
     "timestamp": 1694246320370,
     "user": {
      "displayName": "Vipul Varu",
      "userId": "15100765621066519376"
     },
     "user_tz": -330
    },
    "id": "xkM3MmzD3k7i",
    "outputId": "bf8fbc04-8ea4-4807-aaa7-9f6479d313e3"
   },
   "outputs": [
    {
     "data": {
      "text/html": [
       "<div>\n",
       "<style scoped>\n",
       "    .dataframe tbody tr th:only-of-type {\n",
       "        vertical-align: middle;\n",
       "    }\n",
       "\n",
       "    .dataframe tbody tr th {\n",
       "        vertical-align: top;\n",
       "    }\n",
       "\n",
       "    .dataframe thead th {\n",
       "        text-align: right;\n",
       "    }\n",
       "</style>\n",
       "<table border=\"1\" class=\"dataframe\">\n",
       "  <thead>\n",
       "    <tr style=\"text-align: right;\">\n",
       "      <th></th>\n",
       "      <th>Unnamed: 0</th>\n",
       "      <th>cgpa</th>\n",
       "    </tr>\n",
       "  </thead>\n",
       "  <tbody>\n",
       "    <tr>\n",
       "      <th>0</th>\n",
       "      <td>0</td>\n",
       "      <td>6.8</td>\n",
       "    </tr>\n",
       "    <tr>\n",
       "      <th>1</th>\n",
       "      <td>1</td>\n",
       "      <td>5.9</td>\n",
       "    </tr>\n",
       "    <tr>\n",
       "      <th>2</th>\n",
       "      <td>2</td>\n",
       "      <td>5.3</td>\n",
       "    </tr>\n",
       "    <tr>\n",
       "      <th>3</th>\n",
       "      <td>3</td>\n",
       "      <td>7.4</td>\n",
       "    </tr>\n",
       "    <tr>\n",
       "      <th>4</th>\n",
       "      <td>4</td>\n",
       "      <td>5.8</td>\n",
       "    </tr>\n",
       "    <tr>\n",
       "      <th>...</th>\n",
       "      <td>...</td>\n",
       "      <td>...</td>\n",
       "    </tr>\n",
       "    <tr>\n",
       "      <th>95</th>\n",
       "      <td>95</td>\n",
       "      <td>4.3</td>\n",
       "    </tr>\n",
       "    <tr>\n",
       "      <th>96</th>\n",
       "      <td>96</td>\n",
       "      <td>4.4</td>\n",
       "    </tr>\n",
       "    <tr>\n",
       "      <th>97</th>\n",
       "      <td>97</td>\n",
       "      <td>6.7</td>\n",
       "    </tr>\n",
       "    <tr>\n",
       "      <th>98</th>\n",
       "      <td>98</td>\n",
       "      <td>6.3</td>\n",
       "    </tr>\n",
       "    <tr>\n",
       "      <th>99</th>\n",
       "      <td>99</td>\n",
       "      <td>6.2</td>\n",
       "    </tr>\n",
       "  </tbody>\n",
       "</table>\n",
       "<p>100 rows × 2 columns</p>\n",
       "</div>"
      ],
      "text/plain": [
       "    Unnamed: 0  cgpa\n",
       "0            0   6.8\n",
       "1            1   5.9\n",
       "2            2   5.3\n",
       "3            3   7.4\n",
       "4            4   5.8\n",
       "..         ...   ...\n",
       "95          95   4.3\n",
       "96          96   4.4\n",
       "97          97   6.7\n",
       "98          98   6.3\n",
       "99          99   6.2\n",
       "\n",
       "[100 rows x 2 columns]"
      ]
     },
     "execution_count": 33,
     "metadata": {},
     "output_type": "execute_result"
    }
   ],
   "source": [
    "X"
   ]
  },
  {
   "cell_type": "code",
   "execution_count": 34,
   "metadata": {
    "colab": {
     "base_uri": "https://localhost:8080/"
    },
    "executionInfo": {
     "elapsed": 5,
     "status": "ok",
     "timestamp": 1694246324884,
     "user": {
      "displayName": "Vipul Varu",
      "userId": "15100765621066519376"
     },
     "user_tz": -330
    },
    "id": "PqdOchXh3nx6",
    "outputId": "4a688a32-dde1-4b59-9732-a5caa6588dc1"
   },
   "outputs": [
    {
     "data": {
      "text/plain": [
       "0     1\n",
       "1     0\n",
       "2     0\n",
       "3     1\n",
       "4     0\n",
       "     ..\n",
       "95    0\n",
       "96    0\n",
       "97    1\n",
       "98    1\n",
       "99    1\n",
       "Name: placement, Length: 100, dtype: int64"
      ]
     },
     "execution_count": 34,
     "metadata": {},
     "output_type": "execute_result"
    }
   ],
   "source": [
    "y"
   ]
  },
  {
   "cell_type": "code",
   "execution_count": 35,
   "metadata": {
    "colab": {
     "base_uri": "https://localhost:8080/"
    },
    "executionInfo": {
     "elapsed": 5,
     "status": "ok",
     "timestamp": 1694246327788,
     "user": {
      "displayName": "Vipul Varu",
      "userId": "15100765621066519376"
     },
     "user_tz": -330
    },
    "id": "sEwVF7A43pqk",
    "outputId": "96881d1c-801c-41e4-8a87-e55ff8b12265"
   },
   "outputs": [
    {
     "data": {
      "text/plain": [
       "(100,)"
      ]
     },
     "execution_count": 35,
     "metadata": {},
     "output_type": "execute_result"
    }
   ],
   "source": [
    "y.shape"
   ]
  },
  {
   "cell_type": "code",
   "execution_count": 36,
   "metadata": {
    "executionInfo": {
     "elapsed": 3,
     "status": "ok",
     "timestamp": 1694246331095,
     "user": {
      "displayName": "Vipul Varu",
      "userId": "15100765621066519376"
     },
     "user_tz": -330
    },
    "id": "11vlN5PM3uRj"
   },
   "outputs": [],
   "source": [
    "from sklearn.model_selection import train_test_split"
   ]
  },
  {
   "cell_type": "code",
   "execution_count": 37,
   "metadata": {
    "executionInfo": {
     "elapsed": 361,
     "status": "ok",
     "timestamp": 1694246334417,
     "user": {
      "displayName": "Vipul Varu",
      "userId": "15100765621066519376"
     },
     "user_tz": -330
    },
    "id": "xxNO7Qvi3-IE"
   },
   "outputs": [],
   "source": [
    "x_train,x_test,y_train,y_test = train_test_split(X,y,test_size = 0.1)"
   ]
  },
  {
   "cell_type": "code",
   "execution_count": 38,
   "metadata": {
    "colab": {
     "base_uri": "https://localhost:8080/",
     "height": 423
    },
    "executionInfo": {
     "elapsed": 394,
     "status": "ok",
     "timestamp": 1694246337260,
     "user": {
      "displayName": "Vipul Varu",
      "userId": "15100765621066519376"
     },
     "user_tz": -330
    },
    "id": "GD4dnP4V4IwW",
    "outputId": "73ebec25-053b-4ae3-b797-ffd0548c9e07"
   },
   "outputs": [
    {
     "data": {
      "text/html": [
       "<div>\n",
       "<style scoped>\n",
       "    .dataframe tbody tr th:only-of-type {\n",
       "        vertical-align: middle;\n",
       "    }\n",
       "\n",
       "    .dataframe tbody tr th {\n",
       "        vertical-align: top;\n",
       "    }\n",
       "\n",
       "    .dataframe thead th {\n",
       "        text-align: right;\n",
       "    }\n",
       "</style>\n",
       "<table border=\"1\" class=\"dataframe\">\n",
       "  <thead>\n",
       "    <tr style=\"text-align: right;\">\n",
       "      <th></th>\n",
       "      <th>Unnamed: 0</th>\n",
       "      <th>cgpa</th>\n",
       "    </tr>\n",
       "  </thead>\n",
       "  <tbody>\n",
       "    <tr>\n",
       "      <th>42</th>\n",
       "      <td>42</td>\n",
       "      <td>7.6</td>\n",
       "    </tr>\n",
       "    <tr>\n",
       "      <th>49</th>\n",
       "      <td>49</td>\n",
       "      <td>5.4</td>\n",
       "    </tr>\n",
       "    <tr>\n",
       "      <th>52</th>\n",
       "      <td>52</td>\n",
       "      <td>7.0</td>\n",
       "    </tr>\n",
       "    <tr>\n",
       "      <th>63</th>\n",
       "      <td>63</td>\n",
       "      <td>6.3</td>\n",
       "    </tr>\n",
       "    <tr>\n",
       "      <th>81</th>\n",
       "      <td>81</td>\n",
       "      <td>5.4</td>\n",
       "    </tr>\n",
       "    <tr>\n",
       "      <th>...</th>\n",
       "      <td>...</td>\n",
       "      <td>...</td>\n",
       "    </tr>\n",
       "    <tr>\n",
       "      <th>32</th>\n",
       "      <td>32</td>\n",
       "      <td>7.0</td>\n",
       "    </tr>\n",
       "    <tr>\n",
       "      <th>73</th>\n",
       "      <td>73</td>\n",
       "      <td>4.9</td>\n",
       "    </tr>\n",
       "    <tr>\n",
       "      <th>46</th>\n",
       "      <td>46</td>\n",
       "      <td>5.3</td>\n",
       "    </tr>\n",
       "    <tr>\n",
       "      <th>7</th>\n",
       "      <td>7</td>\n",
       "      <td>5.0</td>\n",
       "    </tr>\n",
       "    <tr>\n",
       "      <th>19</th>\n",
       "      <td>19</td>\n",
       "      <td>5.2</td>\n",
       "    </tr>\n",
       "  </tbody>\n",
       "</table>\n",
       "<p>90 rows × 2 columns</p>\n",
       "</div>"
      ],
      "text/plain": [
       "    Unnamed: 0  cgpa\n",
       "42          42   7.6\n",
       "49          49   5.4\n",
       "52          52   7.0\n",
       "63          63   6.3\n",
       "81          81   5.4\n",
       "..         ...   ...\n",
       "32          32   7.0\n",
       "73          73   4.9\n",
       "46          46   5.3\n",
       "7            7   5.0\n",
       "19          19   5.2\n",
       "\n",
       "[90 rows x 2 columns]"
      ]
     },
     "execution_count": 38,
     "metadata": {},
     "output_type": "execute_result"
    }
   ],
   "source": [
    "x_train"
   ]
  },
  {
   "cell_type": "code",
   "execution_count": 39,
   "metadata": {
    "colab": {
     "base_uri": "https://localhost:8080/",
     "height": 363
    },
    "executionInfo": {
     "elapsed": 411,
     "status": "ok",
     "timestamp": 1694246341081,
     "user": {
      "displayName": "Vipul Varu",
      "userId": "15100765621066519376"
     },
     "user_tz": -330
    },
    "id": "zBPW6loB4bFP",
    "outputId": "0191f7e3-09b5-498f-d841-2b7b26cc296e"
   },
   "outputs": [
    {
     "data": {
      "text/html": [
       "<div>\n",
       "<style scoped>\n",
       "    .dataframe tbody tr th:only-of-type {\n",
       "        vertical-align: middle;\n",
       "    }\n",
       "\n",
       "    .dataframe tbody tr th {\n",
       "        vertical-align: top;\n",
       "    }\n",
       "\n",
       "    .dataframe thead th {\n",
       "        text-align: right;\n",
       "    }\n",
       "</style>\n",
       "<table border=\"1\" class=\"dataframe\">\n",
       "  <thead>\n",
       "    <tr style=\"text-align: right;\">\n",
       "      <th></th>\n",
       "      <th>Unnamed: 0</th>\n",
       "      <th>cgpa</th>\n",
       "    </tr>\n",
       "  </thead>\n",
       "  <tbody>\n",
       "    <tr>\n",
       "      <th>11</th>\n",
       "      <td>11</td>\n",
       "      <td>6.9</td>\n",
       "    </tr>\n",
       "    <tr>\n",
       "      <th>78</th>\n",
       "      <td>78</td>\n",
       "      <td>6.1</td>\n",
       "    </tr>\n",
       "    <tr>\n",
       "      <th>34</th>\n",
       "      <td>34</td>\n",
       "      <td>4.8</td>\n",
       "    </tr>\n",
       "    <tr>\n",
       "      <th>27</th>\n",
       "      <td>27</td>\n",
       "      <td>6.0</td>\n",
       "    </tr>\n",
       "    <tr>\n",
       "      <th>20</th>\n",
       "      <td>20</td>\n",
       "      <td>6.6</td>\n",
       "    </tr>\n",
       "    <tr>\n",
       "      <th>29</th>\n",
       "      <td>29</td>\n",
       "      <td>7.0</td>\n",
       "    </tr>\n",
       "    <tr>\n",
       "      <th>51</th>\n",
       "      <td>51</td>\n",
       "      <td>4.8</td>\n",
       "    </tr>\n",
       "    <tr>\n",
       "      <th>99</th>\n",
       "      <td>99</td>\n",
       "      <td>6.2</td>\n",
       "    </tr>\n",
       "    <tr>\n",
       "      <th>2</th>\n",
       "      <td>2</td>\n",
       "      <td>5.3</td>\n",
       "    </tr>\n",
       "    <tr>\n",
       "      <th>68</th>\n",
       "      <td>68</td>\n",
       "      <td>4.0</td>\n",
       "    </tr>\n",
       "  </tbody>\n",
       "</table>\n",
       "</div>"
      ],
      "text/plain": [
       "    Unnamed: 0  cgpa\n",
       "11          11   6.9\n",
       "78          78   6.1\n",
       "34          34   4.8\n",
       "27          27   6.0\n",
       "20          20   6.6\n",
       "29          29   7.0\n",
       "51          51   4.8\n",
       "99          99   6.2\n",
       "2            2   5.3\n",
       "68          68   4.0"
      ]
     },
     "execution_count": 39,
     "metadata": {},
     "output_type": "execute_result"
    }
   ],
   "source": [
    "x_test"
   ]
  },
  {
   "cell_type": "code",
   "execution_count": 40,
   "metadata": {
    "colab": {
     "base_uri": "https://localhost:8080/"
    },
    "executionInfo": {
     "elapsed": 376,
     "status": "ok",
     "timestamp": 1694246346145,
     "user": {
      "displayName": "Vipul Varu",
      "userId": "15100765621066519376"
     },
     "user_tz": -330
    },
    "id": "zJMhWvwo4cVI",
    "outputId": "d9758808-11f5-41a2-cf2d-b44883fbc677"
   },
   "outputs": [
    {
     "data": {
      "text/plain": [
       "42    1\n",
       "49    0\n",
       "52    1\n",
       "63    1\n",
       "81    0\n",
       "     ..\n",
       "32    1\n",
       "73    0\n",
       "46    0\n",
       "7     0\n",
       "19    0\n",
       "Name: placement, Length: 90, dtype: int64"
      ]
     },
     "execution_count": 40,
     "metadata": {},
     "output_type": "execute_result"
    }
   ],
   "source": [
    "y_train"
   ]
  },
  {
   "cell_type": "code",
   "execution_count": 41,
   "metadata": {
    "colab": {
     "base_uri": "https://localhost:8080/"
    },
    "executionInfo": {
     "elapsed": 4,
     "status": "ok",
     "timestamp": 1694246348593,
     "user": {
      "displayName": "Vipul Varu",
      "userId": "15100765621066519376"
     },
     "user_tz": -330
    },
    "id": "lz1Eu72I4jgI",
    "outputId": "0e5ae561-8020-43b5-f57c-2027fc1c5e54"
   },
   "outputs": [
    {
     "data": {
      "text/plain": [
       "11    1\n",
       "78    0\n",
       "34    0\n",
       "27    1\n",
       "20    1\n",
       "29    1\n",
       "51    0\n",
       "99    1\n",
       "2     0\n",
       "68    0\n",
       "Name: placement, dtype: int64"
      ]
     },
     "execution_count": 41,
     "metadata": {},
     "output_type": "execute_result"
    }
   ],
   "source": [
    "y_test"
   ]
  },
  {
   "cell_type": "code",
   "execution_count": 42,
   "metadata": {
    "executionInfo": {
     "elapsed": 384,
     "status": "ok",
     "timestamp": 1694246352105,
     "user": {
      "displayName": "Vipul Varu",
      "userId": "15100765621066519376"
     },
     "user_tz": -330
    },
    "id": "aaAK2qLP4ldg"
   },
   "outputs": [],
   "source": [
    "from sklearn.preprocessing import StandardScaler"
   ]
  },
  {
   "cell_type": "code",
   "execution_count": 43,
   "metadata": {
    "executionInfo": {
     "elapsed": 3,
     "status": "ok",
     "timestamp": 1694246354067,
     "user": {
      "displayName": "Vipul Varu",
      "userId": "15100765621066519376"
     },
     "user_tz": -330
    },
    "id": "4cw1bvLt40E6"
   },
   "outputs": [],
   "source": [
    "scaler = StandardScaler()"
   ]
  },
  {
   "cell_type": "code",
   "execution_count": 44,
   "metadata": {
    "executionInfo": {
     "elapsed": 354,
     "status": "ok",
     "timestamp": 1694246358128,
     "user": {
      "displayName": "Vipul Varu",
      "userId": "15100765621066519376"
     },
     "user_tz": -330
    },
    "id": "2oaUP9DU44bq"
   },
   "outputs": [],
   "source": [
    "x_train = scaler.fit_transform(x_train)"
   ]
  },
  {
   "cell_type": "code",
   "execution_count": 45,
   "metadata": {
    "colab": {
     "base_uri": "https://localhost:8080/"
    },
    "executionInfo": {
     "elapsed": 367,
     "status": "ok",
     "timestamp": 1694246361164,
     "user": {
      "displayName": "Vipul Varu",
      "userId": "15100765621066519376"
     },
     "user_tz": -330
    },
    "id": "vZAWIewG4866",
    "outputId": "2bbaa027-1bf9-4ab1-afc2-ac8933f0dc96"
   },
   "outputs": [
    {
     "data": {
      "text/plain": [
       "array([[-0.29124613,  1.37286592],\n",
       "       [-0.04692514, -0.53335745],\n",
       "       [ 0.05778385,  0.85298682],\n",
       "       [ 0.44171684,  0.2464612 ],\n",
       "       [ 1.06997082, -0.53335745],\n",
       "       [ 1.13977682,  1.2862194 ],\n",
       "       [ 0.93035882,  1.11292637],\n",
       "       [-0.53556713,  0.67969379],\n",
       "       [-1.47794809,  0.07316817],\n",
       "       [-0.08182814,  0.50640075],\n",
       "       [ 1.17467982, -0.2734179 ],\n",
       "       [-0.25634314,  0.67969379],\n",
       "       [ 1.5237098 , -1.13988306],\n",
       "       [ 0.30210485, -1.05323655],\n",
       "       [ 0.16249285,  1.54615895],\n",
       "       [-1.58265709,  0.93963334],\n",
       "       [-0.84969412,  0.85298682],\n",
       "       [ 1.10487382,  0.41975424],\n",
       "       [ 1.5935158 , -1.39982261],\n",
       "       [-1.3383361 , -0.53335745],\n",
       "       [ 1.48880681,  0.67969379],\n",
       "       [ 0.47661984,  0.85298682],\n",
       "       [ 1.41900081,  1.2862194 ],\n",
       "       [-1.12891811, -1.74640868],\n",
       "       [ 0.54642584,  0.7663403 ],\n",
       "       [ 1.45390381, -0.70665048],\n",
       "       [-1.4430451 , -0.793297  ],\n",
       "       [ 0.72094083,  0.07316817],\n",
       "       [-1.54775409, -0.2734179 ],\n",
       "       [-0.11673114, -0.70665048],\n",
       "       [ 1.6633218 ,  0.2464612 ],\n",
       "       [ 0.89545583, -0.96659003],\n",
       "       [-1.72226909, -0.10012486],\n",
       "       [ 0.40681384, -0.01347835],\n",
       "       [ 1.38409781,  1.11292637],\n",
       "       [ 0.33700784,  0.7663403 ],\n",
       "       [-1.4081421 , -0.01347835],\n",
       "       [-0.36105213, -0.96659003],\n",
       "       [-1.1987241 , -0.70665048],\n",
       "       [ 0.23229885,  0.41975424],\n",
       "       [-0.22144014,  1.2862194 ],\n",
       "       [ 0.12758985,  0.33310772],\n",
       "       [-1.65246309,  1.19957289],\n",
       "       [ 0.86055283, -1.05323655],\n",
       "       [-0.67517912, -1.8330552 ],\n",
       "       [-0.71008212,  1.37286592],\n",
       "       [-0.91950011, -1.13988306],\n",
       "       [ 1.5586128 , -1.48646913],\n",
       "       [ 0.19739585,  0.07316817],\n",
       "       [ 1.6284188 ,  0.59304727],\n",
       "       [-0.50066413, -0.2734179 ],\n",
       "       [ 1.27938881, -0.2734179 ],\n",
       "       [-0.18653714, -0.01347835],\n",
       "       [-1.61756009, -0.18677138],\n",
       "       [-0.01202214, -2.17964126],\n",
       "       [-1.2685301 ,  0.07316817],\n",
       "       [-0.98930611, -0.96659003],\n",
       "       [ 0.09268685,  1.97939154],\n",
       "       [-1.75717209,  0.67969379],\n",
       "       [ 0.51152284,  1.8060985 ],\n",
       "       [-1.16382111, -2.3529343 ],\n",
       "       [ 0.65113483,  2.15268457],\n",
       "       [-0.77988812, -0.70665048],\n",
       "       [-0.39595513, -1.22652958],\n",
       "       [ 1.20958281, -0.18677138],\n",
       "       [-0.95440311, -1.13988306],\n",
       "       [ 1.00016482,  0.41975424],\n",
       "       [-1.3034331 ,  0.33310772],\n",
       "       [ 0.68603783,  0.2464612 ],\n",
       "       [-0.32614913, -0.53335745],\n",
       "       [-0.60537312, -0.01347835],\n",
       "       [-0.46576113,  1.8060985 ],\n",
       "       [ 1.31429181, -1.39982261],\n",
       "       [ 0.37191084,  1.11292637],\n",
       "       [ 1.34919481, -0.96659003],\n",
       "       [-0.43085813,  0.41975424],\n",
       "       [ 1.24448581, -0.793297  ],\n",
       "       [ 0.26720185,  1.71945199],\n",
       "       [ 0.58132884, -0.87994351],\n",
       "       [-0.88459711, -0.87994351],\n",
       "       [ 0.82564983,  0.59304727],\n",
       "       [-1.2336271 , -0.793297  ],\n",
       "       [ 0.75584383,  1.11292637],\n",
       "       [-1.02420911,  0.93963334],\n",
       "       [ 1.03506782, -0.96659003],\n",
       "       [-0.64027612,  0.85298682],\n",
       "       [ 0.79074683, -0.96659003],\n",
       "       [-0.15163414, -0.62000396],\n",
       "       [-1.51285109, -0.87994351],\n",
       "       [-1.09401511, -0.70665048]])"
      ]
     },
     "execution_count": 45,
     "metadata": {},
     "output_type": "execute_result"
    }
   ],
   "source": [
    "x_train"
   ]
  },
  {
   "cell_type": "code",
   "execution_count": 46,
   "metadata": {
    "executionInfo": {
     "elapsed": 3,
     "status": "ok",
     "timestamp": 1694246365250,
     "user": {
      "displayName": "Vipul Varu",
      "userId": "15100765621066519376"
     },
     "user_tz": -330
    },
    "id": "iU9KzDXY5Dhk"
   },
   "outputs": [],
   "source": [
    "x_test = scaler.transform(x_test)"
   ]
  },
  {
   "cell_type": "code",
   "execution_count": 47,
   "metadata": {
    "colab": {
     "base_uri": "https://localhost:8080/"
    },
    "executionInfo": {
     "elapsed": 378,
     "status": "ok",
     "timestamp": 1694246368523,
     "user": {
      "displayName": "Vipul Varu",
      "userId": "15100765621066519376"
     },
     "user_tz": -330
    },
    "id": "9-x-Yha-5Mz0",
    "outputId": "b77140e7-52d1-4281-8cb7-0c2ef62ea94a"
   },
   "outputs": [
    {
     "data": {
      "text/plain": [
       "array([[-1.3732391 ,  0.7663403 ],\n",
       "       [ 0.96526182,  0.07316817],\n",
       "       [-0.57047013, -1.05323655],\n",
       "       [-0.81479112, -0.01347835],\n",
       "       [-1.05911211,  0.50640075],\n",
       "       [-0.74498512,  0.85298682],\n",
       "       [ 0.02288085, -1.05323655],\n",
       "       [ 1.6982248 ,  0.15981469],\n",
       "       [-1.68736609, -0.62000396],\n",
       "       [ 0.61623183, -1.74640868]])"
      ]
     },
     "execution_count": 47,
     "metadata": {},
     "output_type": "execute_result"
    }
   ],
   "source": [
    "x_test"
   ]
  },
  {
   "cell_type": "code",
   "execution_count": 48,
   "metadata": {
    "executionInfo": {
     "elapsed": 364,
     "status": "ok",
     "timestamp": 1694246371140,
     "user": {
      "displayName": "Vipul Varu",
      "userId": "15100765621066519376"
     },
     "user_tz": -330
    },
    "id": "JHrwatpg5N5c"
   },
   "outputs": [],
   "source": [
    "from sklearn.linear_model import LogisticRegression"
   ]
  },
  {
   "cell_type": "code",
   "execution_count": 49,
   "metadata": {
    "executionInfo": {
     "elapsed": 427,
     "status": "ok",
     "timestamp": 1694246374161,
     "user": {
      "displayName": "Vipul Varu",
      "userId": "15100765621066519376"
     },
     "user_tz": -330
    },
    "id": "9nfQs9Em5VwF"
   },
   "outputs": [],
   "source": [
    "clf = LogisticRegression()"
   ]
  },
  {
   "cell_type": "code",
   "execution_count": 61,
   "metadata": {
    "colab": {
     "base_uri": "https://localhost:8080/",
     "height": 74
    },
    "executionInfo": {
     "elapsed": 8,
     "status": "ok",
     "timestamp": 1694246376204,
     "user": {
      "displayName": "Vipul Varu",
      "userId": "15100765621066519376"
     },
     "user_tz": -330
    },
    "id": "P0BjPWEs5aWN",
    "outputId": "e9434c7a-6bf7-44a9-d1e1-70406226f5ec"
   },
   "outputs": [
    {
     "data": {
      "text/html": [
       "<style>#sk-container-id-2 {color: black;}#sk-container-id-2 pre{padding: 0;}#sk-container-id-2 div.sk-toggleable {background-color: white;}#sk-container-id-2 label.sk-toggleable__label {cursor: pointer;display: block;width: 100%;margin-bottom: 0;padding: 0.3em;box-sizing: border-box;text-align: center;}#sk-container-id-2 label.sk-toggleable__label-arrow:before {content: \"▸\";float: left;margin-right: 0.25em;color: #696969;}#sk-container-id-2 label.sk-toggleable__label-arrow:hover:before {color: black;}#sk-container-id-2 div.sk-estimator:hover label.sk-toggleable__label-arrow:before {color: black;}#sk-container-id-2 div.sk-toggleable__content {max-height: 0;max-width: 0;overflow: hidden;text-align: left;background-color: #f0f8ff;}#sk-container-id-2 div.sk-toggleable__content pre {margin: 0.2em;color: black;border-radius: 0.25em;background-color: #f0f8ff;}#sk-container-id-2 input.sk-toggleable__control:checked~div.sk-toggleable__content {max-height: 200px;max-width: 100%;overflow: auto;}#sk-container-id-2 input.sk-toggleable__control:checked~label.sk-toggleable__label-arrow:before {content: \"▾\";}#sk-container-id-2 div.sk-estimator input.sk-toggleable__control:checked~label.sk-toggleable__label {background-color: #d4ebff;}#sk-container-id-2 div.sk-label input.sk-toggleable__control:checked~label.sk-toggleable__label {background-color: #d4ebff;}#sk-container-id-2 input.sk-hidden--visually {border: 0;clip: rect(1px 1px 1px 1px);clip: rect(1px, 1px, 1px, 1px);height: 1px;margin: -1px;overflow: hidden;padding: 0;position: absolute;width: 1px;}#sk-container-id-2 div.sk-estimator {font-family: monospace;background-color: #f0f8ff;border: 1px dotted black;border-radius: 0.25em;box-sizing: border-box;margin-bottom: 0.5em;}#sk-container-id-2 div.sk-estimator:hover {background-color: #d4ebff;}#sk-container-id-2 div.sk-parallel-item::after {content: \"\";width: 100%;border-bottom: 1px solid gray;flex-grow: 1;}#sk-container-id-2 div.sk-label:hover label.sk-toggleable__label {background-color: #d4ebff;}#sk-container-id-2 div.sk-serial::before {content: \"\";position: absolute;border-left: 1px solid gray;box-sizing: border-box;top: 0;bottom: 0;left: 50%;z-index: 0;}#sk-container-id-2 div.sk-serial {display: flex;flex-direction: column;align-items: center;background-color: white;padding-right: 0.2em;padding-left: 0.2em;position: relative;}#sk-container-id-2 div.sk-item {position: relative;z-index: 1;}#sk-container-id-2 div.sk-parallel {display: flex;align-items: stretch;justify-content: center;background-color: white;position: relative;}#sk-container-id-2 div.sk-item::before, #sk-container-id-2 div.sk-parallel-item::before {content: \"\";position: absolute;border-left: 1px solid gray;box-sizing: border-box;top: 0;bottom: 0;left: 50%;z-index: -1;}#sk-container-id-2 div.sk-parallel-item {display: flex;flex-direction: column;z-index: 1;position: relative;background-color: white;}#sk-container-id-2 div.sk-parallel-item:first-child::after {align-self: flex-end;width: 50%;}#sk-container-id-2 div.sk-parallel-item:last-child::after {align-self: flex-start;width: 50%;}#sk-container-id-2 div.sk-parallel-item:only-child::after {width: 0;}#sk-container-id-2 div.sk-dashed-wrapped {border: 1px dashed gray;margin: 0 0.4em 0.5em 0.4em;box-sizing: border-box;padding-bottom: 0.4em;background-color: white;}#sk-container-id-2 div.sk-label label {font-family: monospace;font-weight: bold;display: inline-block;line-height: 1.2em;}#sk-container-id-2 div.sk-label-container {text-align: center;}#sk-container-id-2 div.sk-container {/* jupyter's `normalize.less` sets `[hidden] { display: none; }` but bootstrap.min.css set `[hidden] { display: none !important; }` so we also need the `!important` here to be able to override the default hidden behavior on the sphinx rendered scikit-learn.org. See: https://github.com/scikit-learn/scikit-learn/issues/21755 */display: inline-block !important;position: relative;}#sk-container-id-2 div.sk-text-repr-fallback {display: none;}</style><div id=\"sk-container-id-2\" class=\"sk-top-container\"><div class=\"sk-text-repr-fallback\"><pre>LogisticRegression()</pre><b>In a Jupyter environment, please rerun this cell to show the HTML representation or trust the notebook. <br />On GitHub, the HTML representation is unable to render, please try loading this page with nbviewer.org.</b></div><div class=\"sk-container\" hidden><div class=\"sk-item\"><div class=\"sk-estimator sk-toggleable\"><input class=\"sk-toggleable__control sk-hidden--visually\" id=\"sk-estimator-id-2\" type=\"checkbox\" checked><label for=\"sk-estimator-id-2\" class=\"sk-toggleable__label sk-toggleable__label-arrow\">LogisticRegression</label><div class=\"sk-toggleable__content\"><pre>LogisticRegression()</pre></div></div></div></div></div>"
      ],
      "text/plain": [
       "LogisticRegression()"
      ]
     },
     "execution_count": 61,
     "metadata": {},
     "output_type": "execute_result"
    }
   ],
   "source": [
    "clf.fit(x_train,y_train)"
   ]
  },
  {
   "cell_type": "code",
   "execution_count": 62,
   "metadata": {
    "executionInfo": {
     "elapsed": 3,
     "status": "ok",
     "timestamp": 1694246379097,
     "user": {
      "displayName": "Vipul Varu",
      "userId": "15100765621066519376"
     },
     "user_tz": -330
    },
    "id": "IKgI7K7K5eEl"
   },
   "outputs": [],
   "source": [
    "y_pred = clf.predict(x_test)"
   ]
  },
  {
   "cell_type": "code",
   "execution_count": 63,
   "metadata": {
    "colab": {
     "base_uri": "https://localhost:8080/"
    },
    "executionInfo": {
     "elapsed": 5,
     "status": "ok",
     "timestamp": 1694246382138,
     "user": {
      "displayName": "Vipul Varu",
      "userId": "15100765621066519376"
     },
     "user_tz": -330
    },
    "id": "wodb1_g05qIv",
    "outputId": "90825c28-db6d-4379-c608-34c51902bf0a"
   },
   "outputs": [
    {
     "data": {
      "text/plain": [
       "11    1\n",
       "78    0\n",
       "34    0\n",
       "27    1\n",
       "20    1\n",
       "29    1\n",
       "51    0\n",
       "99    1\n",
       "2     0\n",
       "68    0\n",
       "Name: placement, dtype: int64"
      ]
     },
     "execution_count": 63,
     "metadata": {},
     "output_type": "execute_result"
    }
   ],
   "source": [
    "y_test"
   ]
  },
  {
   "cell_type": "code",
   "execution_count": 64,
   "metadata": {
    "executionInfo": {
     "elapsed": 3,
     "status": "ok",
     "timestamp": 1694246386173,
     "user": {
      "displayName": "Vipul Varu",
      "userId": "15100765621066519376"
     },
     "user_tz": -330
    },
    "id": "k4E_UmfS5spI"
   },
   "outputs": [],
   "source": [
    "from sklearn.metrics import accuracy_score"
   ]
  },
  {
   "cell_type": "code",
   "execution_count": 65,
   "metadata": {
    "colab": {
     "base_uri": "https://localhost:8080/"
    },
    "executionInfo": {
     "elapsed": 5,
     "status": "ok",
     "timestamp": 1694246388255,
     "user": {
      "displayName": "Vipul Varu",
      "userId": "15100765621066519376"
     },
     "user_tz": -330
    },
    "id": "NK62T2k2571w",
    "outputId": "51c4e008-f78a-402c-db17-cf06c84de380"
   },
   "outputs": [
    {
     "data": {
      "text/plain": [
       "0.8"
      ]
     },
     "execution_count": 65,
     "metadata": {},
     "output_type": "execute_result"
    }
   ],
   "source": [
    "accuracy_score(y_test,y_pred)"
   ]
  },
  {
   "cell_type": "code",
   "execution_count": null,
   "metadata": {
    "executionInfo": {
     "elapsed": 462,
     "status": "ok",
     "timestamp": 1694246391184,
     "user": {
      "displayName": "Vipul Varu",
      "userId": "15100765621066519376"
     },
     "user_tz": -330
    },
    "id": "jUS916D76EYZ"
   },
   "outputs": [],
   "source": []
  },
  {
   "cell_type": "code",
   "execution_count": null,
   "metadata": {
    "colab": {
     "base_uri": "https://localhost:8080/",
     "height": 448
    },
    "executionInfo": {
     "elapsed": 692,
     "status": "ok",
     "timestamp": 1694246393966,
     "user": {
      "displayName": "Vipul Varu",
      "userId": "15100765621066519376"
     },
     "user_tz": -330
    },
    "id": "gcwQ-66y6d9g",
    "outputId": "37988b8a-a390-402c-bca0-224bc6763a9c"
   },
   "outputs": [],
   "source": []
  },
  {
   "cell_type": "code",
   "execution_count": null,
   "metadata": {
    "executionInfo": {
     "elapsed": 458,
     "status": "ok",
     "timestamp": 1694246402104,
     "user": {
      "displayName": "Vipul Varu",
      "userId": "15100765621066519376"
     },
     "user_tz": -330
    },
    "id": "LY7v8FZf7Nw4"
   },
   "outputs": [],
   "source": []
  },
  {
   "cell_type": "code",
   "execution_count": 58,
   "metadata": {
    "executionInfo": {
     "elapsed": 791,
     "status": "ok",
     "timestamp": 1694246404899,
     "user": {
      "displayName": "Vipul Varu",
      "userId": "15100765621066519376"
     },
     "user_tz": -330
    },
    "id": "DqAUSxBx7cUj"
   },
   "outputs": [],
   "source": []
  },
  {
   "cell_type": "code",
   "execution_count": null,
   "metadata": {
    "executionInfo": {
     "elapsed": 3,
     "status": "ok",
     "timestamp": 1694246258238,
     "user": {
      "displayName": "Vipul Varu",
      "userId": "15100765621066519376"
     },
     "user_tz": -330
    },
    "id": "BHA7E2YR8j_Q"
   },
   "outputs": [],
   "source": []
  },
  {
   "cell_type": "code",
   "execution_count": null,
   "metadata": {},
   "outputs": [],
   "source": []
  },
  {
   "cell_type": "code",
   "execution_count": null,
   "metadata": {},
   "outputs": [],
   "source": []
  }
 ],
 "metadata": {
  "colab": {
   "authorship_tag": "ABX9TyOzZRDeMDVqlALzvYwwR+Et",
   "provenance": []
  },
  "kernelspec": {
   "display_name": "Python 3 (ipykernel)",
   "language": "python",
   "name": "python3"
  },
  "language_info": {
   "codemirror_mode": {
    "name": "ipython",
    "version": 3
   },
   "file_extension": ".py",
   "mimetype": "text/x-python",
   "name": "python",
   "nbconvert_exporter": "python",
   "pygments_lexer": "ipython3",
   "version": "3.10.9"
  }
 },
 "nbformat": 4,
 "nbformat_minor": 1
}
